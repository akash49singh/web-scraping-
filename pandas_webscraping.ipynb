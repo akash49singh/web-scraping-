{
  "cells": [
    {
      "cell_type": "markdown",
      "metadata": {
        "colab_type": "text",
        "id": "5WNm0Jm7Sg_B"
      },
      "source": [
        "# **Using pandas read_html to Web Scrape Data for Data Science** \n",
        "\n",
        "\n",
        "In this Jupyter notebook, I will be showing you how to easily web scrape data using pandas read_html() function for your data science project. We will be web scraping Uttarakhand state data and perform a quick data exploration."
      ]
    },
    {
      "cell_type": "markdown",
      "metadata": {
        "colab_type": "text",
        "id": "jsGSzqADSa0o"
      },
      "source": [
        "## **URL to the webpage \"https://en.wikipedia.org/wiki/Uttarakhand\"**"
      ]
    },
    {
      "cell_type": "code",
      "execution_count": 5,
      "metadata": {
        "colab": {},
        "colab_type": "code",
        "id": "-x78Rt_iRmCa"
      },
      "outputs": [],
      "source": [
        "url = 'file:///C:/Users/HP/Desktop/me/web%20scraping%20project/Editing%20Uttarakhand%20-%20Wikipedia.html'"
      ]
    },
    {
      "cell_type": "markdown",
      "metadata": {
        "colab_type": "text",
        "id": "fhVY2xJJS0FU"
      },
      "source": [
        "## **Read HTML webpage into pandas**"
      ]
    },
    {
      "cell_type": "code",
      "execution_count": 73,
      "metadata": {
        "colab": {},
        "colab_type": "code",
        "id": "yE_EfE-gPW1a"
      },
      "outputs": [],
      "source": [
        "import pandas as pd\n",
        "import numpy as np"
      ]
    },
    {
      "cell_type": "markdown",
      "metadata": {
        "colab_type": "text",
        "id": "Sk1EUVeFUXPq"
      },
      "source": [
        "### Using pd.read_html() function to read HTML webpage"
      ]
    },
    {
      "cell_type": "code",
      "execution_count": 74,
      "metadata": {
        "colab": {
          "base_uri": "https://localhost:8080/",
          "height": 269
        },
        "colab_type": "code",
        "id": "4sLS78K-S-r2",
        "outputId": "7c98cfe0-d520-4752-b000-bb76fa43347b"
      },
      "outputs": [
        {
          "data": {
            "text/plain": [
              "[                                          Uttarakhand  \\\n",
              " 0                                               State   \n",
              " 1   Clockwise from top: A view of the Garhwal Hima...   \n",
              " 2   .mw-parser-output .ib-settlement-cols{text-ali...   \n",
              " 3        Nickname(s): \"Devabhumi\"(\"Land of the Gods\")   \n",
              " 4   Anthem: \"Uttarakhand Devabhumi Matribhumi\"[1](...   \n",
              " ..                                                ...   \n",
              " 56                                               Fish   \n",
              " 57                                          Butterfly   \n",
              " 58                                             Flower   \n",
              " 59                                               Tree   \n",
              " 60                                              Sport   \n",
              " \n",
              "                                         Uttarakhand.1  \n",
              " 0                                               State  \n",
              " 1   Clockwise from top: A view of the Garhwal Hima...  \n",
              " 2   .mw-parser-output .ib-settlement-cols{text-ali...  \n",
              " 3        Nickname(s): \"Devabhumi\"(\"Land of the Gods\")  \n",
              " 4   Anthem: \"Uttarakhand Devabhumi Matribhumi\"[1](...  \n",
              " ..                                                ...  \n",
              " 56                             Golden Mahseer[17][18]  \n",
              " 57              West Himalayan Common Peacock[19][20]  \n",
              " 58                                   Brahma Kamal[21]  \n",
              " 59                                             Burans  \n",
              " 60                                       Football[22]  \n",
              " \n",
              " [61 rows x 2 columns],\n",
              "              Population Growth          Population Growth.1  \\\n",
              " 0                       Census                   Population   \n",
              " 1                         1951                      2946000   \n",
              " 2                         1961                      3611000   \n",
              " 3                         1971                      4493000   \n",
              " 4                         1981                      5726000   \n",
              " 5                         1991                      7051000   \n",
              " 6                         2001                      8489000   \n",
              " 7                         2011                     10086292   \n",
              " 8  Source: Census of India[58]  Source: Census of India[58]   \n",
              " \n",
              "            Population Growth.2          Population Growth.3  \n",
              " 0                          NaN                           %±  \n",
              " 1                          NaN                            —  \n",
              " 2                          NaN                        22.6%  \n",
              " 3                          NaN                        24.4%  \n",
              " 4                          NaN                        27.4%  \n",
              " 5                          NaN                        23.1%  \n",
              " 6                          NaN                        20.4%  \n",
              " 7                          NaN                        18.8%  \n",
              " 8  Source: Census of India[58]  Source: Census of India[58]  ,\n",
              "    Uttarakhand: mother-tongue of population, according to the 2011 Census.[42]  \\\n",
              " 0                                  Mother tongue code                            \n",
              " 1                                              002007                            \n",
              " 2                                              006102                            \n",
              " 3                                              006195                            \n",
              " 4                                              006240                            \n",
              " 5                                              006265                            \n",
              " 6                                              006340                            \n",
              " 7                                              006439                            \n",
              " 8                                              010014                            \n",
              " 9                                              013071                            \n",
              " 10                                             014011                            \n",
              " 11                                             016038                            \n",
              " 12                                             022015                            \n",
              " 13                                             031001                            \n",
              " 14                                             046003                            \n",
              " 15                                             053005                            \n",
              " 16                                             115008                            \n",
              " 17                                                  –                            \n",
              " 18                                              Total                            \n",
              " 19                                                NaN                            \n",
              " \n",
              "    Uttarakhand: mother-tongue of population, according to the 2011 Census.[42].1  \\\n",
              " 0                                       Mother tongue                              \n",
              " 1                                             Bengali                              \n",
              " 2                                            Bhojpuri                              \n",
              " 3                                            Garhwali                              \n",
              " 4                                               Hindi                              \n",
              " 5                                            Jaunsari                              \n",
              " 6                                             Kumaoni                              \n",
              " 7                                              Pahari                              \n",
              " 8                                               Tharu                              \n",
              " 9                                             Marathi                              \n",
              " 10                                             Nepali                              \n",
              " 11                                            Punjabi                              \n",
              " 12                                               Urdu                              \n",
              " 13                                              Bhoti                              \n",
              " 14                                              Halam                              \n",
              " 15                                             Gujari                              \n",
              " 16                                            Tibetan                              \n",
              " 17                                             Others                              \n",
              " 18                                              Total                              \n",
              " 19                                                NaN                              \n",
              " \n",
              "    Uttarakhand: mother-tongue of population, according to the 2011 Census.[42].2  \\\n",
              " 0                                              People                              \n",
              " 1                                              150893                              \n",
              " 2                                               95330                              \n",
              " 3                                             2322406                              \n",
              " 4                                             4373951                              \n",
              " 5                                              135698                              \n",
              " 6                                             2011286                              \n",
              " 7                                               16984                              \n",
              " 8                                               48286                              \n",
              " 9                                                5989                              \n",
              " 10                                             106394                              \n",
              " 11                                             263258                              \n",
              " 12                                             425461                              \n",
              " 13                                               9207                              \n",
              " 14                                               5995                              \n",
              " 15                                               9470                              \n",
              " 16                                              10125                              \n",
              " 17                                              95559                              \n",
              " 18                                           10086292                              \n",
              " 19                                                NaN                              \n",
              " \n",
              "    Uttarakhand: mother-tongue of population, according to the 2011 Census.[42].3  \n",
              " 0                                          Percentage                             \n",
              " 1                                                1.5%                             \n",
              " 2                                                0.9%                             \n",
              " 3                                               23.0%                             \n",
              " 4                                               43.4%                             \n",
              " 5                                                1.3%                             \n",
              " 6                                               19.9%                             \n",
              " 7                                                0.2%                             \n",
              " 8                                                0.5%                             \n",
              " 9                                                0.1%                             \n",
              " 10                                               1.1%                             \n",
              " 11                                               2.6%                             \n",
              " 12                                               4.2%                             \n",
              " 13                                               0.1%                             \n",
              " 14                                               0.1%                             \n",
              " 15                                               0.1%                             \n",
              " 16                                               0.1%                             \n",
              " 17                                               0.9%                             \n",
              " 18                                             100.0%                             \n",
              " 19                                                NaN                             ,\n",
              "                                  District Division  \\\n",
              " 0                                 Chamoli  Garhwal   \n",
              " 1                                Dehradun  Garhwal   \n",
              " 2   Pauri Garhwal (also known as \"Pauri\")  Garhwal   \n",
              " 3                                Haridwar  Garhwal   \n",
              " 4                             Rudraprayag  Garhwal   \n",
              " 5   Tehri Garhwal (also known as \"Tehri\")  Garhwal   \n",
              " 6                              Uttarkashi  Garhwal   \n",
              " 7                                  Almora   Kumaon   \n",
              " 8                               Bageshwar   Kumaon   \n",
              " 9                               Champawat   Kumaon   \n",
              " 10                               Nainital   Kumaon   \n",
              " 11                            Pithoragarh   Kumaon   \n",
              " 12                      Udham Singh Nagar   Kumaon   \n",
              " 13                                    NaN      NaN   \n",
              " \n",
              "     Population in 2011 Census[42]  \n",
              " 0                        391605.0  \n",
              " 1                       1696694.0  \n",
              " 2                        687271.0  \n",
              " 3                       1890422.0  \n",
              " 4                        242285.0  \n",
              " 5                        618931.0  \n",
              " 6                        330086.0  \n",
              " 7                        622506.0  \n",
              " 8                        259898.0  \n",
              " 9                        259648.0  \n",
              " 10                       954605.0  \n",
              " 11                       483439.0  \n",
              " 12                      1648902.0  \n",
              " 13                            NaN  ,\n",
              "   Economy of Uttarakhand at a Glance[74]figures in crores of Indian rupees  \\\n",
              " 0                      Economy at a Glance (FY-2012)                         \n",
              " 1                                     GSDP (current)                         \n",
              " 2                                  Per capita income                         \n",
              " \n",
              "   Economy of Uttarakhand at a Glance[74]figures in crores of Indian rupees.1  \n",
              " 0                                   In Indian rupees                          \n",
              " 1                                            ₹95,201                          \n",
              " 2                                           ₹103,000                          ,\n",
              "                       Places adjacent to Uttarakhand  \\\n",
              " 0  Himachal Pradesh Tibet Autonomous Region, Chin...   \n",
              " 1                                   Himachal Pradesh   \n",
              " 2                                                NaN   \n",
              " 3                                                NaN   \n",
              " 4                                                NaN   \n",
              " 5                                            Haryana   \n",
              " \n",
              "                     Places adjacent to Uttarakhand.1  \\\n",
              " 0  Himachal Pradesh Tibet Autonomous Region, Chin...   \n",
              " 1                     Tibet Autonomous Region, China   \n",
              " 2                                                NaN   \n",
              " 3                                        Uttarakhand   \n",
              " 4                                                NaN   \n",
              " 5                                      Uttar Pradesh   \n",
              " \n",
              "                       Unnamed: 2  \n",
              " 0                            NaN  \n",
              " 1                            NaN  \n",
              " 2                            NaN  \n",
              " 3  Sudurpashchim Province, Nepal  \n",
              " 4                            NaN  \n",
              " 5                            NaN  ,\n",
              "   Himachal Pradesh Tibet Autonomous Region, China  \\\n",
              " 0              NaN                            NaN   \n",
              " 1              NaN                    Uttarakhand   \n",
              " 2              NaN                            NaN   \n",
              " 3          Haryana                  Uttar Pradesh   \n",
              " \n",
              "                       Unnamed: 2  \n",
              " 0                            NaN  \n",
              " 1  Sudurpashchim Province, Nepal  \n",
              " 2                            NaN  \n",
              " 3                            NaN  ,\n",
              "    .mw-parser-output .navbar{display:inline;font-size:88%;font-weight:normal}.mw-parser-output .navbar-collapse{float:left;text-align:left}.mw-parser-output .navbar-boxtext{word-spacing:0}.mw-parser-output .navbar ul{display:inline-block;white-space:nowrap;line-height:inherit}.mw-parser-output .navbar-brackets::before{margin-right:-0.125em;content:\"[ \"}.mw-parser-output .navbar-brackets::after{margin-left:-0.125em;content:\" ]\"}.mw-parser-output .navbar li{word-spacing:-0.125em}.mw-parser-output .navbar a>span,.mw-parser-output .navbar a>abbr{text-decoration:inherit}.mw-parser-output .navbar-mini abbr{font-variant:small-caps;border-bottom:none;text-decoration:none;cursor:inherit}.mw-parser-output .navbar-ct-full{font-size:114%;margin:0 7em}.mw-parser-output .navbar-ct-mini{font-size:114%;margin:0 4em}vte State of Uttarakhand  \\\n",
              " 0   State Capitals: (Legislative: Dehradun (Winter...                                                                                                                                                                                                                                                                                                                                                                                                                                                                                                                                                                                                                                                                                                                                                                                                                 \n",
              " 1                                          Government                                                                                                                                                                                                                                                                                                                                                                                                                                                                                                                                                                                                                                                                                                                                                                                                                 \n",
              " 2                                           Executive                                                                                                                                                                                                                                                                                                                                                                                                                                                                                                                                                                                                                                                                                                                                                                                                                 \n",
              " 3                                         Legislature                                                                                                                                                                                                                                                                                                                                                                                                                                                                                                                                                                                                                                                                                                                                                                                                                 \n",
              " 4                                           Judiciary                                                                                                                                                                                                                                                                                                                                                                                                                                                                                                                                                                                                                                                                                                                                                                                                                 \n",
              " 5                              Departmentsandagencies                                                                                                                                                                                                                                                                                                                                                                                                                                                                                                                                                                                                                                                                                                                                                                                                                 \n",
              " 6                                             History                                                                                                                                                                                                                                                                                                                                                                                                                                                                                                                                                                                                                                                                                                                                                                                                                 \n",
              " 7                                     AncientKingdoms                                                                                                                                                                                                                                                                                                                                                                                                                                                                                                                                                                                                                                                                                                                                                                                                                 \n",
              " 8                                    MedievalKingdoms                                                                                                                                                                                                                                                                                                                                                                                                                                                                                                                                                                                                                                                                                                                                                                                                                 \n",
              " 9                                 ColonialUttarakhand                                                                                                                                                                                                                                                                                                                                                                                                                                                                                                                                                                                                                                                                                                                                                                                                                 \n",
              " 10                                        Companyrule                                                                                                                                                                                                                                                                                                                                                                                                                                                                                                                                                                                                                                                                                                                                                                                                                 \n",
              " 11                                          Crownrule                                                                                                                                                                                                                                                                                                                                                                                                                                                                                                                                                                                                                                                                                                                                                                                                                 \n",
              " 12                            ContemporaryUttarakhand                                                                                                                                                                                                                                                                                                                                                                                                                                                                                                                                                                                                                                                                                                                                                                                                                 \n",
              " 13                                GeographyandEcology                                                                                                                                                                                                                                                                                                                                                                                                                                                                                                                                                                                                                                                                                                                                                                                                                 \n",
              " 14                                 Geologicalfeatures                                                                                                                                                                                                                                                                                                                                                                                                                                                                                                                                                                                                                                                                                                                                                                                                                 \n",
              " 15                                          Mountains                                                                                                                                                                                                                                                                                                                                                                                                                                                                                                                                                                                                                                                                                                                                                                                                                 \n",
              " 16                                             Plains                                                                                                                                                                                                                                                                                                                                                                                                                                                                                                                                                                                                                                                                                                                                                                                                                 \n",
              " 17                                         Ecoregions                                                                                                                                                                                                                                                                                                                                                                                                                                                                                                                                                                                                                                                                                                                                                                                                                 \n",
              " 18                                          Highlands                                                                                                                                                                                                                                                                                                                                                                                                                                                                                                                                                                                                                                                                                                                                                                                                                 \n",
              " 19                                           Lowlands                                                                                                                                                                                                                                                                                                                                                                                                                                                                                                                                                                                                                                                                                                                                                                                                                 \n",
              " 20                                       Demographics                                                                                                                                                                                                                                                                                                                                                                                                                                                                                                                                                                                                                                                                                                                                                                                                                 \n",
              " 21                                       Ethnicgroups                                                                                                                                                                                                                                                                                                                                                                                                                                                                                                                                                                                                                                                                                                                                                                                                                 \n",
              " 22                                        Indo-Aryans                                                                                                                                                                                                                                                                                                                                                                                                                                                                                                                                                                                                                                                                                                                                                                                                                 \n",
              " 23                                     Tibeto-Burmans                                                                                                                                                                                                                                                                                                                                                                                                                                                                                                                                                                                                                                                                                                                                                                                                                 \n",
              " 24                                          Languages                                                                                                                                                                                                                                                                                                                                                                                                                                                                                                                                                                                                                                                                                                                                                                                                                 \n",
              " 25                                           Official                                                                                                                                                                                                                                                                                                                                                                                                                                                                                                                                                                                                                                                                                                                                                                                                                 \n",
              " 26                                             Spoken                                                                                                                                                                                                                                                                                                                                                                                                                                                                                                                                                                                                                                                                                                                                                                                                                 \n",
              " 27                                         Indo-Aryan                                                                                                                                                                                                                                                                                                                                                                                                                                                                                                                                                                                                                                                                                                                                                                                                                 \n",
              " 28                                      Tibeto-Burman                                                                                                                                                                                                                                                                                                                                                                                                                                                                                                                                                                                                                                                                                                                                                                                                                 \n",
              " 29                           Administrative divisions                                                                                                                                                                                                                                                                                                                                                                                                                                                                                                                                                                                                                                                                                                                                                                                                                 \n",
              " 30                                              Urban                                                                                                                                                                                                                                                                                                                                                                                                                                                                                                                                                                                                                                                                                                                                                                                                                 \n",
              " 31                                              Rural                                                                                                                                                                                                                                                                                                                                                                                                                                                                                                                                                                                                                                                                                                                                                                                                                 \n",
              " 32                                           Politics                                                                                                                                                                                                                                                                                                                                                                                                                                                                                                                                                                                                                                                                                                                                                                                                                 \n",
              " 33                                            Tourism                                                                                                                                                                                                                                                                                                                                                                                                                                                                                                                                                                                                                                                                                                                                                                                                                 \n",
              " 34                                          Monuments                                                                                                                                                                                                                                                                                                                                                                                                                                                                                                                                                                                                                                                                                                                                                                                                                 \n",
              " 35                                    ChardhamCircuit                                                                                                                                                                                                                                                                                                                                                                                                                                                                                                                                                                                                                                                                                                                                                                                                                 \n",
              " 36                                      NationalParks                                                                                                                                                                                                                                                                                                                                                                                                                                                                                                                                                                                                                                                                                                                                                                                                                 \n",
              " 37                                             Sports                                                                                                                                                                                                                                                                                                                                                                                                                                                                                                                                                                                                                                                                                                                                                                                                                 \n",
              " 38                                        Othertopics                                                                                                                                                                                                                                                                                                                                                                                                                                                                                                                                                                                                                                                                                                                                                                                                                 \n",
              " 39                                          Districts                                                                                                                                                                                                                                                                                                                                                                                                                                                                                                                                                                                                                                                                                                                                                                                                                 \n",
              " 40                                             Kumaon                                                                                                                                                                                                                                                                                                                                                                                                                                                                                                                                                                                                                                                                                                                                                                                                                 \n",
              " 41                                            Garhwal                                                                                                                                                                                                                                                                                                                                                                                                                                                                                                                                                                                                                                                                                                                                                                                                                 \n",
              " 42                                  Proposeddistricts                                                                                                                                                                                                                                                                                                                                                                                                                                                                                                                                                                                                                                                                                                                                                                                                                 \n",
              " 43                                        Majorcities                                                                                                                                                                                                                                                                                                                                                                                                                                                                                                                                                                                                                                                                                                                                                                                                                 \n",
              " \n",
              "    .mw-parser-output .navbar{display:inline;font-size:88%;font-weight:normal}.mw-parser-output .navbar-collapse{float:left;text-align:left}.mw-parser-output .navbar-boxtext{word-spacing:0}.mw-parser-output .navbar ul{display:inline-block;white-space:nowrap;line-height:inherit}.mw-parser-output .navbar-brackets::before{margin-right:-0.125em;content:\"[ \"}.mw-parser-output .navbar-brackets::after{margin-left:-0.125em;content:\" ]\"}.mw-parser-output .navbar li{word-spacing:-0.125em}.mw-parser-output .navbar a>span,.mw-parser-output .navbar a>abbr{text-decoration:inherit}.mw-parser-output .navbar-mini abbr{font-variant:small-caps;border-bottom:none;text-decoration:none;cursor:inherit}.mw-parser-output .navbar-ct-full{font-size:114%;margin:0 7em}.mw-parser-output .navbar-ct-mini{font-size:114%;margin:0 4em}vte State of Uttarakhand.1  \n",
              " 0   State Capitals: (Legislative: Dehradun (Winter...                                                                                                                                                                                                                                                                                                                                                                                                                                                                                                                                                                                                                                                                                                                                                                                                                  \n",
              " 1   Executive Governor Chief Minister Council of M...                                                                                                                                                                                                                                                                                                                                                                                                                                                                                                                                                                                                                                                                                                                                                                                                                  \n",
              " 2        Governor Chief Minister Council of Ministers                                                                                                                                                                                                                                                                                                                                                                                                                                                                                                                                                                                                                                                                                                                                                                                                                  \n",
              " 3   Legislative Assembly Speaker Leader of the Opp...                                                                                                                                                                                                                                                                                                                                                                                                                                                                                                                                                                                                                                                                                                                                                                                                                  \n",
              " 4       High Court Chief Justice Lok Adalat Lokayukta                                                                                                                                                                                                                                                                                                                                                                                                                                                                                                                                                                                                                                                                                                                                                                                                                  \n",
              " 5   Symbols Emblem Song Motto Foundation day Polic...                                                                                                                                                                                                                                                                                                                                                                                                                                                                                                                                                                                                                                                                                                                                                                                                                  \n",
              " 6   AncientKingdoms Uttarakuru Kingdom Paurava Kin...                                                                                                                                                                                                                                                                                                                                                                                                                                                                                                                                                                                                                                                                                                                                                                                                                  \n",
              " 7   Uttarakuru Kingdom Paurava Kingdom Himalaya Ki...                                                                                                                                                                                                                                                                                                                                                                                                                                                                                                                                                                                                                                                                                                                                                                                                                  \n",
              " 8   Garhwal Kingdom Panwar dynasty Kumaon Kingdom ...                                                                                                                                                                                                                                                                                                                                                                                                                                                                                                                                                                                                                                                                                                                                                                                                                  \n",
              " 9   Companyrule Ceded and Conquered Provinces Nort...                                                                                                                                                                                                                                                                                                                                                                                                                                                                                                                                                                                                                                                                                                                                                                                                                  \n",
              " 10  Ceded and Conquered Provinces North-Western Pr...                                                                                                                                                                                                                                                                                                                                                                                                                                                                                                                                                                                                                                                                                                                                                                                                                  \n",
              " 11  United Provinces of Agra and Oudh United Provi...                                                                                                                                                                                                                                                                                                                                                                                                                                                                                                                                                                                                                                                                                                                                                                                                                  \n",
              " 12    Rampur Tiraha firing Partition of Uttar Pradesh                                                                                                                                                                                                                                                                                                                                                                                                                                                                                                                                                                                                                                                                                                                                                                                                                  \n",
              " 13  GeologicalfeaturesMountains Great Himalayas Ga...                                                                                                                                                                                                                                                                                                                                                                                                                                                                                                                                                                                                                                                                                                                                                                                                                  \n",
              " 14  Mountains Great Himalayas Garhwal Himalayas Si...                                                                                                                                                                                                                                                                                                                                                                                                                                                                                                                                                                                                                                                                                                                                                                                                                  \n",
              " 15  Great Himalayas Garhwal Himalayas Sivalik Hill...                                                                                                                                                                                                                                                                                                                                                                                                                                                                                                                                                                                                                                                                                                                                                                                                                  \n",
              " 16                     Bhabar Terai Doab Ganges Basin                                                                                                                                                                                                                                                                                                                                                                                                                                                                                                                                                                                                                                                                                                                                                                                                                  \n",
              " 17  Highlands Western Himalayan alpine shrub and m...                                                                                                                                                                                                                                                                                                                                                                                                                                                                                                                                                                                                                                                                                                                                                                                                                  \n",
              " 18  Western Himalayan alpine shrub and meadows Wes...                                                                                                                                                                                                                                                                                                                                                                                                                                                                                                                                                                                                                                                                                                                                                                                                                  \n",
              " 19  Western Himalayan broadleaf forests Himalayan ...                                                                                                                                                                                                                                                                                                                                                                                                                                                                                                                                                                                                                                                                                                                                                                                                                  \n",
              " 20  EthnicgroupsIndo-Aryans Garhwalis Kumaonis Jau...                                                                                                                                                                                                                                                                                                                                                                                                                                                                                                                                                                                                                                                                                                                                                                                                                  \n",
              " 21  Indo-Aryans Garhwalis Kumaonis Jaunsaris Buksa...                                                                                                                                                                                                                                                                                                                                                                                                                                                                                                                                                                                                                                                                                                                                                                                                                  \n",
              " 22         Garhwalis Kumaonis Jaunsaris Buksas Tharus                                                                                                                                                                                                                                                                                                                                                                                                                                                                                                                                                                                                                                                                                                                                                                                                                  \n",
              " 23                      Bhotiyas Rajis Jads Banrawats                                                                                                                                                                                                                                                                                                                                                                                                                                                                                                                                                                                                                                                                                                                                                                                                                  \n",
              " 24  Official Hindi Sanskrit SpokenIndo-Aryan Garhw...                                                                                                                                                                                                                                                                                                                                                                                                                                                                                                                                                                                                                                                                                                                                                                                                                  \n",
              " 25                                     Hindi Sanskrit                                                                                                                                                                                                                                                                                                                                                                                                                                                                                                                                                                                                                                                                                                                                                                                                                  \n",
              " 26  Indo-Aryan Garhwali Kumaoni Jaunsari Tharu Tib...                                                                                                                                                                                                                                                                                                                                                                                                                                                                                                                                                                                                                                                                                                                                                                                                                  \n",
              " 27                    Garhwali Kumaoni Jaunsari Tharu                                                                                                                                                                                                                                                                                                                                                                                                                                                                                                                                                                                                                                                                                                                                                                                                                  \n",
              " 28   Rongpo Byangsi Chaudangsi Darmiya Raji Rawat Jad                                                                                                                                                                                                                                                                                                                                                                                                                                                                                                                                                                                                                                                                                                                                                                                                                  \n",
              " 29  Urban Districts Tehsils Urban Local Bodies Mun...                                                                                                                                                                                                                                                                                                                                                                                                                                                                                                                                                                                                                                                                                                                                                                                                                  \n",
              " 30  Districts Tehsils Urban Local Bodies Municipal...                                                                                                                                                                                                                                                                                                                                                                                                                                                                                                                                                                                                                                                                                                                                                                                                                  \n",
              " 31              Parganas Community Development Blocks                                                                                                                                                                                                                                                                                                                                                                                                                                                                                                                                                                                                                                                                                                                                                                                                                  \n",
              " 32  Coolie-Begar movement Statehood movement Chipk...                                                                                                                                                                                                                                                                                                                                                                                                                                                                                                                                                                                                                                                                                                                                                                                                                  \n",
              " 33  Monuments World Heritage Site Nanda Devi and V...                                                                                                                                                                                                                                                                                                                                                                                                                                                                                                                                                                                                                                                                                                                                                                                                                  \n",
              " 34  World Heritage Site Nanda Devi and Valley of F...                                                                                                                                                                                                                                                                                                                                                                                                                                                                                                                                                                                                                                                                                                                                                                                                                  \n",
              " 35  Gangotri Yamunotri Yamunotri Temple Badrinath ...                                                                                                                                                                                                                                                                                                                                                                                                                                                                                                                                                                                                                                                                                                                                                                                                                  \n",
              " 36  Gangotri Govind Pashu Vihar Jim Corbett Nanda ...                                                                                                                                                                                                                                                                                                                                                                                                                                                                                                                                                                                                                                                                                                                                                                                                                  \n",
              " 37  Cricket Men's cricket team Women's cricket tea...                                                                                                                                                                                                                                                                                                                                                                                                                                                                                                                                                                                                                                                                                                                                                                                                                  \n",
              " 38  Transport Char Dham Highway Char Dham Railway ...                                                                                                                                                                                                                                                                                                                                                                                                                                                                                                                                                                                                                                                                                                                                                                                                                  \n",
              " 39  Kumaon Almora Bageshwar Champawat Nainital Pit...                                                                                                                                                                                                                                                                                                                                                                                                                                                                                                                                                                                                                                                                                                                                                                                                                  \n",
              " 40  Almora Bageshwar Champawat Nainital Pithoragar...                                                                                                                                                                                                                                                                                                                                                                                                                                                                                                                                                                                                                                                                                                                                                                                                                  \n",
              " 41  Chamoli Dehradun Haridwar Pauri Garhwal Rudrap...                                                                                                                                                                                                                                                                                                                                                                                                                                                                                                                                                                                                                                                                                                                                                                                                                  \n",
              " 42                 Didihat Kotdwar Ranikhet Yamunotri                                                                                                                                                                                                                                                                                                                                                                                                                                                                                                                                                                                                                                                                                                                                                                                                                  \n",
              " 43  Dehradun Haridwar Haldwani Roorkee Kashipur Ru...                                                                                                                                                                                                                                                                                                                                                                                                                                                                                                                                                                                                                                                                                                                                                                                                                  ,\n",
              "                 Executive       Governor Chief Minister Council of Ministers\n",
              " 0             Legislature  Legislative Assembly Speaker Leader of the Opp...\n",
              " 1               Judiciary      High Court Chief Justice Lok Adalat Lokayukta\n",
              " 2  Departmentsandagencies  Symbols Emblem Song Motto Foundation day Polic...,\n",
              "            AncientKingdoms  \\\n",
              " 0         MedievalKingdoms   \n",
              " 1      ColonialUttarakhand   \n",
              " 2              Companyrule   \n",
              " 3                Crownrule   \n",
              " 4  ContemporaryUttarakhand   \n",
              " \n",
              "   Uttarakuru Kingdom Paurava Kingdom Himalaya Kingdom Parvata Kingdom Kirata Kingdom Nanda Empire Maurya Empire Kushan Empire Kuninda Kingdom Gupta Empire  \n",
              " 0  Garhwal Kingdom Panwar dynasty Kumaon Kingdom ...                                                                                                        \n",
              " 1  Companyrule Ceded and Conquered Provinces Nort...                                                                                                        \n",
              " 2  Ceded and Conquered Provinces North-Western Pr...                                                                                                        \n",
              " 3  United Provinces of Agra and Oudh United Provi...                                                                                                        \n",
              " 4    Rampur Tiraha firing Partition of Uttar Pradesh                                                                                                        ,\n",
              "   Companyrule  \\\n",
              " 0   Crownrule   \n",
              " \n",
              "   Ceded and Conquered Provinces North-Western Provinces Agra Presidency  \n",
              " 0  United Provinces of Agra and Oudh United Provi...                     ,\n",
              "   Geologicalfeatures  \\\n",
              " 0          Mountains   \n",
              " 1             Plains   \n",
              " 2         Ecoregions   \n",
              " 3          Highlands   \n",
              " 4           Lowlands   \n",
              " \n",
              "   Mountains Great Himalayas Garhwal Himalayas Sivalik Hills Mountain peaks Lakes Plains Bhabar Terai Doab Ganges Basin  \n",
              " 0  Great Himalayas Garhwal Himalayas Sivalik Hill...                                                                    \n",
              " 1                     Bhabar Terai Doab Ganges Basin                                                                    \n",
              " 2  Highlands Western Himalayan alpine shrub and m...                                                                    \n",
              " 3  Western Himalayan alpine shrub and meadows Wes...                                                                    \n",
              " 4  Western Himalayan broadleaf forests Himalayan ...                                                                    ,\n",
              "   Mountains  \\\n",
              " 0    Plains   \n",
              " \n",
              "   Great Himalayas Garhwal Himalayas Sivalik Hills Mountain peaks Lakes  \n",
              " 0                     Bhabar Terai Doab Ganges Basin                    ,\n",
              "   Highlands  \\\n",
              " 0  Lowlands   \n",
              " \n",
              "   Western Himalayan alpine shrub and meadows Western Himalayan subalpine conifer forests Himalayan subtropical pine forests  \n",
              " 0  Western Himalayan broadleaf forests Himalayan ...                                                                         ,\n",
              "      Ethnicgroups  \\\n",
              " 0     Indo-Aryans   \n",
              " 1  Tibeto-Burmans   \n",
              " 2       Languages   \n",
              " 3        Official   \n",
              " 4          Spoken   \n",
              " 5      Indo-Aryan   \n",
              " 6   Tibeto-Burman   \n",
              " \n",
              "   Indo-Aryans Garhwalis Kumaonis Jaunsaris Buksas Tharus Tibeto-Burmans Bhotiyas Rajis Jads Banrawats  \n",
              " 0         Garhwalis Kumaonis Jaunsaris Buksas Tharus                                                   \n",
              " 1                      Bhotiyas Rajis Jads Banrawats                                                   \n",
              " 2  Official Hindi Sanskrit SpokenIndo-Aryan Garhw...                                                   \n",
              " 3                                     Hindi Sanskrit                                                   \n",
              " 4  Indo-Aryan Garhwali Kumaoni Jaunsari Tharu Tib...                                                   \n",
              " 5                    Garhwali Kumaoni Jaunsari Tharu                                                   \n",
              " 6   Rongpo Byangsi Chaudangsi Darmiya Raji Rawat Jad                                                   ,\n",
              "       Indo-Aryans Garhwalis Kumaonis Jaunsaris Buksas Tharus\n",
              " 0  Tibeto-Burmans              Bhotiyas Rajis Jads Banrawats,\n",
              "         Official                                     Hindi Sanskrit\n",
              " 0         Spoken  Indo-Aryan Garhwali Kumaoni Jaunsari Tharu Tib...\n",
              " 1     Indo-Aryan                    Garhwali Kumaoni Jaunsari Tharu\n",
              " 2  Tibeto-Burman   Rongpo Byangsi Chaudangsi Darmiya Raji Rawat Jad,\n",
              "       Indo-Aryan                   Garhwali Kumaoni Jaunsari Tharu\n",
              " 0  Tibeto-Burman  Rongpo Byangsi Chaudangsi Darmiya Raji Rawat Jad,\n",
              "    Urban Districts Tehsils Urban Local Bodies Municipal Corporations\n",
              " 0  Rural              Parganas Community Development Blocks         ,\n",
              "          Monuments  \\\n",
              " 0  ChardhamCircuit   \n",
              " 1    NationalParks   \n",
              " \n",
              "   World Heritage Site Nanda Devi and Valley of Flowers National Parks Ramsar Wetland Asan Barrage Monuments of National Importance State Protected Monuments  \n",
              " 0  Gangotri Yamunotri Yamunotri Temple Badrinath ...                                                                                                          \n",
              " 1  Gangotri Govind Pashu Vihar Jim Corbett Nanda ...                                                                                                          ,\n",
              "               Kumaon  \\\n",
              " 0            Garhwal   \n",
              " 1  Proposeddistricts   \n",
              " \n",
              "   Almora Bageshwar Champawat Nainital Pithoragarh Udham Singh Nagar  \n",
              " 0  Chamoli Dehradun Haridwar Pauri Garhwal Rudrap...                 \n",
              " 1                 Didihat Kotdwar Ranikhet Yamunotri                 ,\n",
              "                      vteGarhwal  \\\n",
              " 0  Division headquarters: Pauri   \n",
              " 1                 Main Articles   \n",
              " 2                     Districts   \n",
              " 3                  Major Cities   \n",
              " \n",
              "                                         vteGarhwal.1  \n",
              " 0                       Division headquarters: Pauri  \n",
              " 1  Garhwal Brigade Garhwal Constituency Garhwal D...  \n",
              " 2  Chamoli Dehradun Haridwar Pauri Garhwal Rudrap...  \n",
              " 3  Dehradun Haridwar Roorkee Rishikesh Kotdwar Ne...  ,\n",
              "                          vteKumaon  \\\n",
              " 0  Division headquarters: Nainital   \n",
              " 1                    Main Articles   \n",
              " 2                        Districts   \n",
              " 3                     Major Cities   \n",
              " \n",
              "                                          vteKumaon.1  \n",
              " 0                    Division headquarters: Nainital  \n",
              " 1  HMIS Kumaon Kumaon Engineering College Kumaon ...  \n",
              " 2  Almora Bageshwar Champawat Nainital Pithoragar...  \n",
              " 3  Haldwani Rudrapur Kashipur Ramnagar Pithoragar...  ,\n",
              "   vteMunicipalities of Uttarakhand  \\\n",
              " 0            MunicipalCorporations   \n",
              " 1                MunicipalCouncils   \n",
              " 2                  NagarPanchayats   \n",
              " 3                 CantonmentBoards   \n",
              " \n",
              "                   vteMunicipalities of Uttarakhand.1  \n",
              " 0  Dehradun Haldwani Haridwar Kashipur Kotdwar Ri...  \n",
              " 1  Almora Bageshwar Bajpur Barkot Bhowali Chamba ...  \n",
              " 2  Agastmuni Badrinath Banbasa Berinag Bhagwanpur...  \n",
              " 3  Almora Cantonment Chakrata Clement Town Dehrad...  ,\n",
              "    vteHindu temples in Uttarakhand  \\\n",
              " 0                           Almora   \n",
              " 1                        Bageshwar   \n",
              " 2                          Chamoli   \n",
              " 3                        Champawat   \n",
              " 4                         Dehradun   \n",
              " 5                         Haridwar   \n",
              " 6                         Nainital   \n",
              " 7                    Pauri Garhwal   \n",
              " 8                      Pithoragarh   \n",
              " 9                      Rudraprayag   \n",
              " 10                   Tehri Garhwal   \n",
              " 11               Udham Singh Nagar   \n",
              " 12                      Uttarkashi   \n",
              " \n",
              "                     vteHindu temples in Uttarakhand.1  \n",
              " 0                    Golu Devta Temple Jagnath Temple  \n",
              " 1            Bagnath Temple Baijnath Group of Temples  \n",
              " 2   Badrinath Temple Kalpeshwar Temple Rudranath T...  \n",
              " 3                                    Baleshwar Temple  \n",
              " 4   Lakhamandal Mahasu Devta Temple Bharat Temple ...  \n",
              " 5   Chandi Devi Temple Daksheswar Mahadev Temple H...  \n",
              " 6                                 Garjiya Devi Temple  \n",
              " 7   Dhari Devi Temple Neelkanth Mahadev Temple Rag...  \n",
              " 8                   Berinag Temple Patal Bhuvaneshwar  \n",
              " 9   Guptakashi Temple Kedarnath Temple Madhyamahes...  \n",
              " 10  Chandrabadani Temple Rudreshwar Mahadev Temple...  \n",
              " 11         Moteshwar Mahadev Temple Balsundari Temple  \n",
              " 12                   Gangotri Temple Yamunotri Temple  ,\n",
              "            vte States and union territories of India  \\\n",
              " 0                                             States   \n",
              " 1                                  Union territories   \n",
              " 2  Capitals in India Autonomous administrative di...   \n",
              " \n",
              "          vte States and union territories of India.1  \n",
              " 0  Arunachal Pradesh Andhra Pradesh Assam Bihar C...  \n",
              " 1  Andaman and Nicobar Islands Chandigarh Dadra a...  \n",
              " 2  Capitals in India Autonomous administrative di...  ,\n",
              "     Authority control                                Authority control.1\n",
              " 0             General  Integrated Authority File (Germany) VIAF 1 Wor...\n",
              " 1  National libraries                       United States Czech Republic\n",
              " 2               Other                                   MusicBrainz area]"
            ]
          },
          "execution_count": 74,
          "metadata": {},
          "output_type": "execute_result"
        }
      ],
      "source": [
        "df = pd.read_html(url, header = 0)\n",
        "df"
      ]
    },
    {
      "cell_type": "markdown",
      "metadata": {
        "colab_type": "text",
        "id": "iVtWB7zuUWIp"
      },
      "source": [
        "### How many tables are there in the webpage?"
      ]
    },
    {
      "cell_type": "code",
      "execution_count": 75,
      "metadata": {
        "colab": {
          "base_uri": "https://localhost:8080/",
          "height": 35
        },
        "colab_type": "code",
        "id": "BdIXrthuTApH",
        "outputId": "07350119-b55a-49fb-c62d-7d2a680f6248"
      },
      "outputs": [
        {
          "data": {
            "text/plain": [
              "27"
            ]
          },
          "execution_count": 75,
          "metadata": {},
          "output_type": "execute_result"
        }
      ],
      "source": [
        "len(df)"
      ]
    },
    {
      "cell_type": "markdown",
      "metadata": {
        "colab_type": "text",
        "id": "glCMVlkWU6ik"
      },
      "source": [
        "### Select the first table"
      ]
    },
    {
      "cell_type": "code",
      "execution_count": 76,
      "metadata": {
        "colab": {
          "base_uri": "https://localhost:8080/",
          "height": 609
        },
        "colab_type": "code",
        "id": "Pv0NHbFeTrEp",
        "outputId": "f54f309e-6321-4267-9bb1-d0a9c6c050a9"
      },
      "outputs": [
        {
          "data": {
            "text/html": [
              "<div>\n",
              "<style scoped>\n",
              "    .dataframe tbody tr th:only-of-type {\n",
              "        vertical-align: middle;\n",
              "    }\n",
              "\n",
              "    .dataframe tbody tr th {\n",
              "        vertical-align: top;\n",
              "    }\n",
              "\n",
              "    .dataframe thead th {\n",
              "        text-align: right;\n",
              "    }\n",
              "</style>\n",
              "<table border=\"1\" class=\"dataframe\">\n",
              "  <thead>\n",
              "    <tr style=\"text-align: right;\">\n",
              "      <th></th>\n",
              "      <th>Uttarakhand: mother-tongue of population, according to the 2011 Census.[42]</th>\n",
              "      <th>Uttarakhand: mother-tongue of population, according to the 2011 Census.[42].1</th>\n",
              "      <th>Uttarakhand: mother-tongue of population, according to the 2011 Census.[42].2</th>\n",
              "      <th>Uttarakhand: mother-tongue of population, according to the 2011 Census.[42].3</th>\n",
              "    </tr>\n",
              "  </thead>\n",
              "  <tbody>\n",
              "    <tr>\n",
              "      <th>0</th>\n",
              "      <td>Mother tongue code</td>\n",
              "      <td>Mother tongue</td>\n",
              "      <td>People</td>\n",
              "      <td>Percentage</td>\n",
              "    </tr>\n",
              "    <tr>\n",
              "      <th>1</th>\n",
              "      <td>002007</td>\n",
              "      <td>Bengali</td>\n",
              "      <td>150893</td>\n",
              "      <td>1.5%</td>\n",
              "    </tr>\n",
              "    <tr>\n",
              "      <th>2</th>\n",
              "      <td>006102</td>\n",
              "      <td>Bhojpuri</td>\n",
              "      <td>95330</td>\n",
              "      <td>0.9%</td>\n",
              "    </tr>\n",
              "    <tr>\n",
              "      <th>3</th>\n",
              "      <td>006195</td>\n",
              "      <td>Garhwali</td>\n",
              "      <td>2322406</td>\n",
              "      <td>23.0%</td>\n",
              "    </tr>\n",
              "    <tr>\n",
              "      <th>4</th>\n",
              "      <td>006240</td>\n",
              "      <td>Hindi</td>\n",
              "      <td>4373951</td>\n",
              "      <td>43.4%</td>\n",
              "    </tr>\n",
              "    <tr>\n",
              "      <th>5</th>\n",
              "      <td>006265</td>\n",
              "      <td>Jaunsari</td>\n",
              "      <td>135698</td>\n",
              "      <td>1.3%</td>\n",
              "    </tr>\n",
              "    <tr>\n",
              "      <th>6</th>\n",
              "      <td>006340</td>\n",
              "      <td>Kumaoni</td>\n",
              "      <td>2011286</td>\n",
              "      <td>19.9%</td>\n",
              "    </tr>\n",
              "    <tr>\n",
              "      <th>7</th>\n",
              "      <td>006439</td>\n",
              "      <td>Pahari</td>\n",
              "      <td>16984</td>\n",
              "      <td>0.2%</td>\n",
              "    </tr>\n",
              "    <tr>\n",
              "      <th>8</th>\n",
              "      <td>010014</td>\n",
              "      <td>Tharu</td>\n",
              "      <td>48286</td>\n",
              "      <td>0.5%</td>\n",
              "    </tr>\n",
              "    <tr>\n",
              "      <th>9</th>\n",
              "      <td>013071</td>\n",
              "      <td>Marathi</td>\n",
              "      <td>5989</td>\n",
              "      <td>0.1%</td>\n",
              "    </tr>\n",
              "    <tr>\n",
              "      <th>10</th>\n",
              "      <td>014011</td>\n",
              "      <td>Nepali</td>\n",
              "      <td>106394</td>\n",
              "      <td>1.1%</td>\n",
              "    </tr>\n",
              "    <tr>\n",
              "      <th>11</th>\n",
              "      <td>016038</td>\n",
              "      <td>Punjabi</td>\n",
              "      <td>263258</td>\n",
              "      <td>2.6%</td>\n",
              "    </tr>\n",
              "    <tr>\n",
              "      <th>12</th>\n",
              "      <td>022015</td>\n",
              "      <td>Urdu</td>\n",
              "      <td>425461</td>\n",
              "      <td>4.2%</td>\n",
              "    </tr>\n",
              "    <tr>\n",
              "      <th>13</th>\n",
              "      <td>031001</td>\n",
              "      <td>Bhoti</td>\n",
              "      <td>9207</td>\n",
              "      <td>0.1%</td>\n",
              "    </tr>\n",
              "    <tr>\n",
              "      <th>14</th>\n",
              "      <td>046003</td>\n",
              "      <td>Halam</td>\n",
              "      <td>5995</td>\n",
              "      <td>0.1%</td>\n",
              "    </tr>\n",
              "    <tr>\n",
              "      <th>15</th>\n",
              "      <td>053005</td>\n",
              "      <td>Gujari</td>\n",
              "      <td>9470</td>\n",
              "      <td>0.1%</td>\n",
              "    </tr>\n",
              "    <tr>\n",
              "      <th>16</th>\n",
              "      <td>115008</td>\n",
              "      <td>Tibetan</td>\n",
              "      <td>10125</td>\n",
              "      <td>0.1%</td>\n",
              "    </tr>\n",
              "    <tr>\n",
              "      <th>17</th>\n",
              "      <td>–</td>\n",
              "      <td>Others</td>\n",
              "      <td>95559</td>\n",
              "      <td>0.9%</td>\n",
              "    </tr>\n",
              "    <tr>\n",
              "      <th>18</th>\n",
              "      <td>Total</td>\n",
              "      <td>Total</td>\n",
              "      <td>10086292</td>\n",
              "      <td>100.0%</td>\n",
              "    </tr>\n",
              "    <tr>\n",
              "      <th>19</th>\n",
              "      <td>NaN</td>\n",
              "      <td>NaN</td>\n",
              "      <td>NaN</td>\n",
              "      <td>NaN</td>\n",
              "    </tr>\n",
              "  </tbody>\n",
              "</table>\n",
              "</div>"
            ],
            "text/plain": [
              "   Uttarakhand: mother-tongue of population, according to the 2011 Census.[42]  \\\n",
              "0                                  Mother tongue code                            \n",
              "1                                              002007                            \n",
              "2                                              006102                            \n",
              "3                                              006195                            \n",
              "4                                              006240                            \n",
              "5                                              006265                            \n",
              "6                                              006340                            \n",
              "7                                              006439                            \n",
              "8                                              010014                            \n",
              "9                                              013071                            \n",
              "10                                             014011                            \n",
              "11                                             016038                            \n",
              "12                                             022015                            \n",
              "13                                             031001                            \n",
              "14                                             046003                            \n",
              "15                                             053005                            \n",
              "16                                             115008                            \n",
              "17                                                  –                            \n",
              "18                                              Total                            \n",
              "19                                                NaN                            \n",
              "\n",
              "   Uttarakhand: mother-tongue of population, according to the 2011 Census.[42].1  \\\n",
              "0                                       Mother tongue                              \n",
              "1                                             Bengali                              \n",
              "2                                            Bhojpuri                              \n",
              "3                                            Garhwali                              \n",
              "4                                               Hindi                              \n",
              "5                                            Jaunsari                              \n",
              "6                                             Kumaoni                              \n",
              "7                                              Pahari                              \n",
              "8                                               Tharu                              \n",
              "9                                             Marathi                              \n",
              "10                                             Nepali                              \n",
              "11                                            Punjabi                              \n",
              "12                                               Urdu                              \n",
              "13                                              Bhoti                              \n",
              "14                                              Halam                              \n",
              "15                                             Gujari                              \n",
              "16                                            Tibetan                              \n",
              "17                                             Others                              \n",
              "18                                              Total                              \n",
              "19                                                NaN                              \n",
              "\n",
              "   Uttarakhand: mother-tongue of population, according to the 2011 Census.[42].2  \\\n",
              "0                                              People                              \n",
              "1                                              150893                              \n",
              "2                                               95330                              \n",
              "3                                             2322406                              \n",
              "4                                             4373951                              \n",
              "5                                              135698                              \n",
              "6                                             2011286                              \n",
              "7                                               16984                              \n",
              "8                                               48286                              \n",
              "9                                                5989                              \n",
              "10                                             106394                              \n",
              "11                                             263258                              \n",
              "12                                             425461                              \n",
              "13                                               9207                              \n",
              "14                                               5995                              \n",
              "15                                               9470                              \n",
              "16                                              10125                              \n",
              "17                                              95559                              \n",
              "18                                           10086292                              \n",
              "19                                                NaN                              \n",
              "\n",
              "   Uttarakhand: mother-tongue of population, according to the 2011 Census.[42].3  \n",
              "0                                          Percentage                             \n",
              "1                                                1.5%                             \n",
              "2                                                0.9%                             \n",
              "3                                               23.0%                             \n",
              "4                                               43.4%                             \n",
              "5                                                1.3%                             \n",
              "6                                               19.9%                             \n",
              "7                                                0.2%                             \n",
              "8                                                0.5%                             \n",
              "9                                                0.1%                             \n",
              "10                                               1.1%                             \n",
              "11                                               2.6%                             \n",
              "12                                               4.2%                             \n",
              "13                                               0.1%                             \n",
              "14                                               0.1%                             \n",
              "15                                               0.1%                             \n",
              "16                                               0.1%                             \n",
              "17                                               0.9%                             \n",
              "18                                             100.0%                             \n",
              "19                                                NaN                             "
            ]
          },
          "execution_count": 76,
          "metadata": {},
          "output_type": "execute_result"
        }
      ],
      "source": [
        "df[2]"
      ]
    },
    {
      "cell_type": "code",
      "execution_count": 78,
      "metadata": {
        "colab": {},
        "colab_type": "code",
        "id": "owwSCuZYU-sT"
      },
      "outputs": [],
      "source": [
        "df2019 = df[2]"
      ]
    },
    {
      "cell_type": "code",
      "execution_count": 79,
      "metadata": {},
      "outputs": [
        {
          "data": {
            "text/html": [
              "<div>\n",
              "<style scoped>\n",
              "    .dataframe tbody tr th:only-of-type {\n",
              "        vertical-align: middle;\n",
              "    }\n",
              "\n",
              "    .dataframe tbody tr th {\n",
              "        vertical-align: top;\n",
              "    }\n",
              "\n",
              "    .dataframe thead th {\n",
              "        text-align: right;\n",
              "    }\n",
              "</style>\n",
              "<table border=\"1\" class=\"dataframe\">\n",
              "  <thead>\n",
              "    <tr style=\"text-align: right;\">\n",
              "      <th></th>\n",
              "      <th>mtc</th>\n",
              "      <th>mt</th>\n",
              "      <th>peeps</th>\n",
              "      <th>%</th>\n",
              "    </tr>\n",
              "  </thead>\n",
              "  <tbody>\n",
              "    <tr>\n",
              "      <th>0</th>\n",
              "      <td>Mother tongue code</td>\n",
              "      <td>Mother tongue</td>\n",
              "      <td>People</td>\n",
              "      <td>Percentage</td>\n",
              "    </tr>\n",
              "    <tr>\n",
              "      <th>1</th>\n",
              "      <td>002007</td>\n",
              "      <td>Bengali</td>\n",
              "      <td>150893</td>\n",
              "      <td>1.5%</td>\n",
              "    </tr>\n",
              "    <tr>\n",
              "      <th>2</th>\n",
              "      <td>006102</td>\n",
              "      <td>Bhojpuri</td>\n",
              "      <td>95330</td>\n",
              "      <td>0.9%</td>\n",
              "    </tr>\n",
              "    <tr>\n",
              "      <th>3</th>\n",
              "      <td>006195</td>\n",
              "      <td>Garhwali</td>\n",
              "      <td>2322406</td>\n",
              "      <td>23.0%</td>\n",
              "    </tr>\n",
              "    <tr>\n",
              "      <th>4</th>\n",
              "      <td>006240</td>\n",
              "      <td>Hindi</td>\n",
              "      <td>4373951</td>\n",
              "      <td>43.4%</td>\n",
              "    </tr>\n",
              "    <tr>\n",
              "      <th>5</th>\n",
              "      <td>006265</td>\n",
              "      <td>Jaunsari</td>\n",
              "      <td>135698</td>\n",
              "      <td>1.3%</td>\n",
              "    </tr>\n",
              "    <tr>\n",
              "      <th>6</th>\n",
              "      <td>006340</td>\n",
              "      <td>Kumaoni</td>\n",
              "      <td>2011286</td>\n",
              "      <td>19.9%</td>\n",
              "    </tr>\n",
              "    <tr>\n",
              "      <th>7</th>\n",
              "      <td>006439</td>\n",
              "      <td>Pahari</td>\n",
              "      <td>16984</td>\n",
              "      <td>0.2%</td>\n",
              "    </tr>\n",
              "    <tr>\n",
              "      <th>8</th>\n",
              "      <td>010014</td>\n",
              "      <td>Tharu</td>\n",
              "      <td>48286</td>\n",
              "      <td>0.5%</td>\n",
              "    </tr>\n",
              "    <tr>\n",
              "      <th>9</th>\n",
              "      <td>013071</td>\n",
              "      <td>Marathi</td>\n",
              "      <td>5989</td>\n",
              "      <td>0.1%</td>\n",
              "    </tr>\n",
              "    <tr>\n",
              "      <th>10</th>\n",
              "      <td>014011</td>\n",
              "      <td>Nepali</td>\n",
              "      <td>106394</td>\n",
              "      <td>1.1%</td>\n",
              "    </tr>\n",
              "    <tr>\n",
              "      <th>11</th>\n",
              "      <td>016038</td>\n",
              "      <td>Punjabi</td>\n",
              "      <td>263258</td>\n",
              "      <td>2.6%</td>\n",
              "    </tr>\n",
              "    <tr>\n",
              "      <th>12</th>\n",
              "      <td>022015</td>\n",
              "      <td>Urdu</td>\n",
              "      <td>425461</td>\n",
              "      <td>4.2%</td>\n",
              "    </tr>\n",
              "    <tr>\n",
              "      <th>13</th>\n",
              "      <td>031001</td>\n",
              "      <td>Bhoti</td>\n",
              "      <td>9207</td>\n",
              "      <td>0.1%</td>\n",
              "    </tr>\n",
              "    <tr>\n",
              "      <th>14</th>\n",
              "      <td>046003</td>\n",
              "      <td>Halam</td>\n",
              "      <td>5995</td>\n",
              "      <td>0.1%</td>\n",
              "    </tr>\n",
              "    <tr>\n",
              "      <th>15</th>\n",
              "      <td>053005</td>\n",
              "      <td>Gujari</td>\n",
              "      <td>9470</td>\n",
              "      <td>0.1%</td>\n",
              "    </tr>\n",
              "    <tr>\n",
              "      <th>16</th>\n",
              "      <td>115008</td>\n",
              "      <td>Tibetan</td>\n",
              "      <td>10125</td>\n",
              "      <td>0.1%</td>\n",
              "    </tr>\n",
              "    <tr>\n",
              "      <th>17</th>\n",
              "      <td>–</td>\n",
              "      <td>Others</td>\n",
              "      <td>95559</td>\n",
              "      <td>0.9%</td>\n",
              "    </tr>\n",
              "    <tr>\n",
              "      <th>18</th>\n",
              "      <td>Total</td>\n",
              "      <td>Total</td>\n",
              "      <td>10086292</td>\n",
              "      <td>100.0%</td>\n",
              "    </tr>\n",
              "    <tr>\n",
              "      <th>19</th>\n",
              "      <td>NaN</td>\n",
              "      <td>NaN</td>\n",
              "      <td>NaN</td>\n",
              "      <td>NaN</td>\n",
              "    </tr>\n",
              "  </tbody>\n",
              "</table>\n",
              "</div>"
            ],
            "text/plain": [
              "                   mtc             mt     peeps           %\n",
              "0   Mother tongue code  Mother tongue    People  Percentage\n",
              "1               002007        Bengali    150893        1.5%\n",
              "2               006102       Bhojpuri     95330        0.9%\n",
              "3               006195       Garhwali   2322406       23.0%\n",
              "4               006240          Hindi   4373951       43.4%\n",
              "5               006265       Jaunsari    135698        1.3%\n",
              "6               006340        Kumaoni   2011286       19.9%\n",
              "7               006439         Pahari     16984        0.2%\n",
              "8               010014          Tharu     48286        0.5%\n",
              "9               013071        Marathi      5989        0.1%\n",
              "10              014011         Nepali    106394        1.1%\n",
              "11              016038        Punjabi    263258        2.6%\n",
              "12              022015           Urdu    425461        4.2%\n",
              "13              031001          Bhoti      9207        0.1%\n",
              "14              046003          Halam      5995        0.1%\n",
              "15              053005         Gujari      9470        0.1%\n",
              "16              115008        Tibetan     10125        0.1%\n",
              "17                   –         Others     95559        0.9%\n",
              "18               Total          Total  10086292      100.0%\n",
              "19                 NaN            NaN       NaN         NaN"
            ]
          },
          "execution_count": 79,
          "metadata": {},
          "output_type": "execute_result"
        }
      ],
      "source": [
        "df2019=df2019.rename(columns={'Uttarakhand: mother-tongue of population, according to the 2011 Census.[42]':'mtc','Uttarakhand: mother-tongue of population, according to the 2011 Census.[42].1':'mt','Uttarakhand: mother-tongue of population, according to the 2011 Census.[42].2':'peeps','Uttarakhand: mother-tongue of population, according to the 2011 Census.[42].3':'%'})\n",
        "df2019"
      ]
    },
    {
      "cell_type": "code",
      "execution_count": 102,
      "metadata": {},
      "outputs": [
        {
          "data": {
            "text/html": [
              "<div>\n",
              "<style scoped>\n",
              "    .dataframe tbody tr th:only-of-type {\n",
              "        vertical-align: middle;\n",
              "    }\n",
              "\n",
              "    .dataframe tbody tr th {\n",
              "        vertical-align: top;\n",
              "    }\n",
              "\n",
              "    .dataframe thead th {\n",
              "        text-align: right;\n",
              "    }\n",
              "</style>\n",
              "<table border=\"1\" class=\"dataframe\">\n",
              "  <thead>\n",
              "    <tr style=\"text-align: right;\">\n",
              "      <th></th>\n",
              "      <th>mtc</th>\n",
              "      <th>mt</th>\n",
              "      <th>peeps</th>\n",
              "      <th>%</th>\n",
              "    </tr>\n",
              "  </thead>\n",
              "  <tbody>\n",
              "    <tr>\n",
              "      <th>1</th>\n",
              "      <td>002007</td>\n",
              "      <td>Bengali</td>\n",
              "      <td>150893</td>\n",
              "      <td>1.5%</td>\n",
              "    </tr>\n",
              "    <tr>\n",
              "      <th>2</th>\n",
              "      <td>006102</td>\n",
              "      <td>Bhojpuri</td>\n",
              "      <td>95330</td>\n",
              "      <td>0.9%</td>\n",
              "    </tr>\n",
              "    <tr>\n",
              "      <th>3</th>\n",
              "      <td>006195</td>\n",
              "      <td>Garhwali</td>\n",
              "      <td>2322406</td>\n",
              "      <td>23.0%</td>\n",
              "    </tr>\n",
              "    <tr>\n",
              "      <th>4</th>\n",
              "      <td>006240</td>\n",
              "      <td>Hindi</td>\n",
              "      <td>4373951</td>\n",
              "      <td>43.4%</td>\n",
              "    </tr>\n",
              "    <tr>\n",
              "      <th>5</th>\n",
              "      <td>006265</td>\n",
              "      <td>Jaunsari</td>\n",
              "      <td>135698</td>\n",
              "      <td>1.3%</td>\n",
              "    </tr>\n",
              "    <tr>\n",
              "      <th>6</th>\n",
              "      <td>006340</td>\n",
              "      <td>Kumaoni</td>\n",
              "      <td>2011286</td>\n",
              "      <td>19.9%</td>\n",
              "    </tr>\n",
              "    <tr>\n",
              "      <th>7</th>\n",
              "      <td>006439</td>\n",
              "      <td>Pahari</td>\n",
              "      <td>16984</td>\n",
              "      <td>0.2%</td>\n",
              "    </tr>\n",
              "    <tr>\n",
              "      <th>8</th>\n",
              "      <td>010014</td>\n",
              "      <td>Tharu</td>\n",
              "      <td>48286</td>\n",
              "      <td>0.5%</td>\n",
              "    </tr>\n",
              "    <tr>\n",
              "      <th>9</th>\n",
              "      <td>013071</td>\n",
              "      <td>Marathi</td>\n",
              "      <td>5989</td>\n",
              "      <td>0.1%</td>\n",
              "    </tr>\n",
              "    <tr>\n",
              "      <th>10</th>\n",
              "      <td>014011</td>\n",
              "      <td>Nepali</td>\n",
              "      <td>106394</td>\n",
              "      <td>1.1%</td>\n",
              "    </tr>\n",
              "    <tr>\n",
              "      <th>11</th>\n",
              "      <td>016038</td>\n",
              "      <td>Punjabi</td>\n",
              "      <td>263258</td>\n",
              "      <td>2.6%</td>\n",
              "    </tr>\n",
              "    <tr>\n",
              "      <th>12</th>\n",
              "      <td>022015</td>\n",
              "      <td>Urdu</td>\n",
              "      <td>425461</td>\n",
              "      <td>4.2%</td>\n",
              "    </tr>\n",
              "    <tr>\n",
              "      <th>13</th>\n",
              "      <td>031001</td>\n",
              "      <td>Bhoti</td>\n",
              "      <td>9207</td>\n",
              "      <td>0.1%</td>\n",
              "    </tr>\n",
              "    <tr>\n",
              "      <th>14</th>\n",
              "      <td>046003</td>\n",
              "      <td>Halam</td>\n",
              "      <td>5995</td>\n",
              "      <td>0.1%</td>\n",
              "    </tr>\n",
              "    <tr>\n",
              "      <th>15</th>\n",
              "      <td>053005</td>\n",
              "      <td>Gujari</td>\n",
              "      <td>9470</td>\n",
              "      <td>0.1%</td>\n",
              "    </tr>\n",
              "    <tr>\n",
              "      <th>16</th>\n",
              "      <td>115008</td>\n",
              "      <td>Tibetan</td>\n",
              "      <td>10125</td>\n",
              "      <td>0.1%</td>\n",
              "    </tr>\n",
              "    <tr>\n",
              "      <th>17</th>\n",
              "      <td>–</td>\n",
              "      <td>Others</td>\n",
              "      <td>95559</td>\n",
              "      <td>0.9%</td>\n",
              "    </tr>\n",
              "  </tbody>\n",
              "</table>\n",
              "</div>"
            ],
            "text/plain": [
              "       mtc        mt    peeps      %\n",
              "1   002007   Bengali   150893   1.5%\n",
              "2   006102  Bhojpuri    95330   0.9%\n",
              "3   006195  Garhwali  2322406  23.0%\n",
              "4   006240     Hindi  4373951  43.4%\n",
              "5   006265  Jaunsari   135698   1.3%\n",
              "6   006340   Kumaoni  2011286  19.9%\n",
              "7   006439    Pahari    16984   0.2%\n",
              "8   010014     Tharu    48286   0.5%\n",
              "9   013071   Marathi     5989   0.1%\n",
              "10  014011    Nepali   106394   1.1%\n",
              "11  016038   Punjabi   263258   2.6%\n",
              "12  022015      Urdu   425461   4.2%\n",
              "13  031001     Bhoti     9207   0.1%\n",
              "14  046003     Halam     5995   0.1%\n",
              "15  053005    Gujari     9470   0.1%\n",
              "16  115008   Tibetan    10125   0.1%\n",
              "17       –    Others    95559   0.9%"
            ]
          },
          "execution_count": 102,
          "metadata": {},
          "output_type": "execute_result"
        }
      ],
      "source": [
        "df2019 = df2019.drop([18])\n",
        "df2019"
      ]
    },
    {
      "cell_type": "code",
      "execution_count": 105,
      "metadata": {},
      "outputs": [
        {
          "data": {
            "application/vnd.plotly.v1+json": {
              "config": {
                "plotlyServerURL": "https://plot.ly"
              },
              "data": [
                {
                  "domain": {
                    "x": [
                      0,
                      1
                    ],
                    "y": [
                      0,
                      1
                    ]
                  },
                  "hovertemplate": "mt=%{label}<br>peeps=%{value}<extra></extra>",
                  "labels": [
                    "Bengali",
                    "Bhojpuri",
                    "Garhwali",
                    "Hindi",
                    "Jaunsari",
                    "Kumaoni",
                    "Pahari",
                    "Tharu",
                    "Marathi",
                    "Nepali",
                    "Punjabi",
                    "Urdu",
                    "Bhoti",
                    "Halam",
                    "Gujari",
                    "Tibetan",
                    "Others"
                  ],
                  "legendgroup": "",
                  "name": "",
                  "showlegend": true,
                  "type": "pie",
                  "values": [
                    "150893",
                    "95330",
                    "2322406",
                    "4373951",
                    "135698",
                    "2011286",
                    "16984",
                    "48286",
                    "5989",
                    "106394",
                    "263258",
                    "425461",
                    "9207",
                    "5995",
                    "9470",
                    "10125",
                    "95559"
                  ]
                }
              ],
              "layout": {
                "height": 900,
                "legend": {
                  "tracegroupgap": 0
                },
                "template": {
                  "data": {
                    "bar": [
                      {
                        "error_x": {
                          "color": "#2a3f5f"
                        },
                        "error_y": {
                          "color": "#2a3f5f"
                        },
                        "marker": {
                          "line": {
                            "color": "#E5ECF6",
                            "width": 0.5
                          },
                          "pattern": {
                            "fillmode": "overlay",
                            "size": 10,
                            "solidity": 0.2
                          }
                        },
                        "type": "bar"
                      }
                    ],
                    "barpolar": [
                      {
                        "marker": {
                          "line": {
                            "color": "#E5ECF6",
                            "width": 0.5
                          },
                          "pattern": {
                            "fillmode": "overlay",
                            "size": 10,
                            "solidity": 0.2
                          }
                        },
                        "type": "barpolar"
                      }
                    ],
                    "carpet": [
                      {
                        "aaxis": {
                          "endlinecolor": "#2a3f5f",
                          "gridcolor": "white",
                          "linecolor": "white",
                          "minorgridcolor": "white",
                          "startlinecolor": "#2a3f5f"
                        },
                        "baxis": {
                          "endlinecolor": "#2a3f5f",
                          "gridcolor": "white",
                          "linecolor": "white",
                          "minorgridcolor": "white",
                          "startlinecolor": "#2a3f5f"
                        },
                        "type": "carpet"
                      }
                    ],
                    "choropleth": [
                      {
                        "colorbar": {
                          "outlinewidth": 0,
                          "ticks": ""
                        },
                        "type": "choropleth"
                      }
                    ],
                    "contour": [
                      {
                        "colorbar": {
                          "outlinewidth": 0,
                          "ticks": ""
                        },
                        "colorscale": [
                          [
                            0,
                            "#0d0887"
                          ],
                          [
                            0.1111111111111111,
                            "#46039f"
                          ],
                          [
                            0.2222222222222222,
                            "#7201a8"
                          ],
                          [
                            0.3333333333333333,
                            "#9c179e"
                          ],
                          [
                            0.4444444444444444,
                            "#bd3786"
                          ],
                          [
                            0.5555555555555556,
                            "#d8576b"
                          ],
                          [
                            0.6666666666666666,
                            "#ed7953"
                          ],
                          [
                            0.7777777777777778,
                            "#fb9f3a"
                          ],
                          [
                            0.8888888888888888,
                            "#fdca26"
                          ],
                          [
                            1,
                            "#f0f921"
                          ]
                        ],
                        "type": "contour"
                      }
                    ],
                    "contourcarpet": [
                      {
                        "colorbar": {
                          "outlinewidth": 0,
                          "ticks": ""
                        },
                        "type": "contourcarpet"
                      }
                    ],
                    "heatmap": [
                      {
                        "colorbar": {
                          "outlinewidth": 0,
                          "ticks": ""
                        },
                        "colorscale": [
                          [
                            0,
                            "#0d0887"
                          ],
                          [
                            0.1111111111111111,
                            "#46039f"
                          ],
                          [
                            0.2222222222222222,
                            "#7201a8"
                          ],
                          [
                            0.3333333333333333,
                            "#9c179e"
                          ],
                          [
                            0.4444444444444444,
                            "#bd3786"
                          ],
                          [
                            0.5555555555555556,
                            "#d8576b"
                          ],
                          [
                            0.6666666666666666,
                            "#ed7953"
                          ],
                          [
                            0.7777777777777778,
                            "#fb9f3a"
                          ],
                          [
                            0.8888888888888888,
                            "#fdca26"
                          ],
                          [
                            1,
                            "#f0f921"
                          ]
                        ],
                        "type": "heatmap"
                      }
                    ],
                    "heatmapgl": [
                      {
                        "colorbar": {
                          "outlinewidth": 0,
                          "ticks": ""
                        },
                        "colorscale": [
                          [
                            0,
                            "#0d0887"
                          ],
                          [
                            0.1111111111111111,
                            "#46039f"
                          ],
                          [
                            0.2222222222222222,
                            "#7201a8"
                          ],
                          [
                            0.3333333333333333,
                            "#9c179e"
                          ],
                          [
                            0.4444444444444444,
                            "#bd3786"
                          ],
                          [
                            0.5555555555555556,
                            "#d8576b"
                          ],
                          [
                            0.6666666666666666,
                            "#ed7953"
                          ],
                          [
                            0.7777777777777778,
                            "#fb9f3a"
                          ],
                          [
                            0.8888888888888888,
                            "#fdca26"
                          ],
                          [
                            1,
                            "#f0f921"
                          ]
                        ],
                        "type": "heatmapgl"
                      }
                    ],
                    "histogram": [
                      {
                        "marker": {
                          "pattern": {
                            "fillmode": "overlay",
                            "size": 10,
                            "solidity": 0.2
                          }
                        },
                        "type": "histogram"
                      }
                    ],
                    "histogram2d": [
                      {
                        "colorbar": {
                          "outlinewidth": 0,
                          "ticks": ""
                        },
                        "colorscale": [
                          [
                            0,
                            "#0d0887"
                          ],
                          [
                            0.1111111111111111,
                            "#46039f"
                          ],
                          [
                            0.2222222222222222,
                            "#7201a8"
                          ],
                          [
                            0.3333333333333333,
                            "#9c179e"
                          ],
                          [
                            0.4444444444444444,
                            "#bd3786"
                          ],
                          [
                            0.5555555555555556,
                            "#d8576b"
                          ],
                          [
                            0.6666666666666666,
                            "#ed7953"
                          ],
                          [
                            0.7777777777777778,
                            "#fb9f3a"
                          ],
                          [
                            0.8888888888888888,
                            "#fdca26"
                          ],
                          [
                            1,
                            "#f0f921"
                          ]
                        ],
                        "type": "histogram2d"
                      }
                    ],
                    "histogram2dcontour": [
                      {
                        "colorbar": {
                          "outlinewidth": 0,
                          "ticks": ""
                        },
                        "colorscale": [
                          [
                            0,
                            "#0d0887"
                          ],
                          [
                            0.1111111111111111,
                            "#46039f"
                          ],
                          [
                            0.2222222222222222,
                            "#7201a8"
                          ],
                          [
                            0.3333333333333333,
                            "#9c179e"
                          ],
                          [
                            0.4444444444444444,
                            "#bd3786"
                          ],
                          [
                            0.5555555555555556,
                            "#d8576b"
                          ],
                          [
                            0.6666666666666666,
                            "#ed7953"
                          ],
                          [
                            0.7777777777777778,
                            "#fb9f3a"
                          ],
                          [
                            0.8888888888888888,
                            "#fdca26"
                          ],
                          [
                            1,
                            "#f0f921"
                          ]
                        ],
                        "type": "histogram2dcontour"
                      }
                    ],
                    "mesh3d": [
                      {
                        "colorbar": {
                          "outlinewidth": 0,
                          "ticks": ""
                        },
                        "type": "mesh3d"
                      }
                    ],
                    "parcoords": [
                      {
                        "line": {
                          "colorbar": {
                            "outlinewidth": 0,
                            "ticks": ""
                          }
                        },
                        "type": "parcoords"
                      }
                    ],
                    "pie": [
                      {
                        "automargin": true,
                        "type": "pie"
                      }
                    ],
                    "scatter": [
                      {
                        "marker": {
                          "colorbar": {
                            "outlinewidth": 0,
                            "ticks": ""
                          }
                        },
                        "type": "scatter"
                      }
                    ],
                    "scatter3d": [
                      {
                        "line": {
                          "colorbar": {
                            "outlinewidth": 0,
                            "ticks": ""
                          }
                        },
                        "marker": {
                          "colorbar": {
                            "outlinewidth": 0,
                            "ticks": ""
                          }
                        },
                        "type": "scatter3d"
                      }
                    ],
                    "scattercarpet": [
                      {
                        "marker": {
                          "colorbar": {
                            "outlinewidth": 0,
                            "ticks": ""
                          }
                        },
                        "type": "scattercarpet"
                      }
                    ],
                    "scattergeo": [
                      {
                        "marker": {
                          "colorbar": {
                            "outlinewidth": 0,
                            "ticks": ""
                          }
                        },
                        "type": "scattergeo"
                      }
                    ],
                    "scattergl": [
                      {
                        "marker": {
                          "colorbar": {
                            "outlinewidth": 0,
                            "ticks": ""
                          }
                        },
                        "type": "scattergl"
                      }
                    ],
                    "scattermapbox": [
                      {
                        "marker": {
                          "colorbar": {
                            "outlinewidth": 0,
                            "ticks": ""
                          }
                        },
                        "type": "scattermapbox"
                      }
                    ],
                    "scatterpolar": [
                      {
                        "marker": {
                          "colorbar": {
                            "outlinewidth": 0,
                            "ticks": ""
                          }
                        },
                        "type": "scatterpolar"
                      }
                    ],
                    "scatterpolargl": [
                      {
                        "marker": {
                          "colorbar": {
                            "outlinewidth": 0,
                            "ticks": ""
                          }
                        },
                        "type": "scatterpolargl"
                      }
                    ],
                    "scatterternary": [
                      {
                        "marker": {
                          "colorbar": {
                            "outlinewidth": 0,
                            "ticks": ""
                          }
                        },
                        "type": "scatterternary"
                      }
                    ],
                    "surface": [
                      {
                        "colorbar": {
                          "outlinewidth": 0,
                          "ticks": ""
                        },
                        "colorscale": [
                          [
                            0,
                            "#0d0887"
                          ],
                          [
                            0.1111111111111111,
                            "#46039f"
                          ],
                          [
                            0.2222222222222222,
                            "#7201a8"
                          ],
                          [
                            0.3333333333333333,
                            "#9c179e"
                          ],
                          [
                            0.4444444444444444,
                            "#bd3786"
                          ],
                          [
                            0.5555555555555556,
                            "#d8576b"
                          ],
                          [
                            0.6666666666666666,
                            "#ed7953"
                          ],
                          [
                            0.7777777777777778,
                            "#fb9f3a"
                          ],
                          [
                            0.8888888888888888,
                            "#fdca26"
                          ],
                          [
                            1,
                            "#f0f921"
                          ]
                        ],
                        "type": "surface"
                      }
                    ],
                    "table": [
                      {
                        "cells": {
                          "fill": {
                            "color": "#EBF0F8"
                          },
                          "line": {
                            "color": "white"
                          }
                        },
                        "header": {
                          "fill": {
                            "color": "#C8D4E3"
                          },
                          "line": {
                            "color": "white"
                          }
                        },
                        "type": "table"
                      }
                    ]
                  },
                  "layout": {
                    "annotationdefaults": {
                      "arrowcolor": "#2a3f5f",
                      "arrowhead": 0,
                      "arrowwidth": 1
                    },
                    "autotypenumbers": "strict",
                    "coloraxis": {
                      "colorbar": {
                        "outlinewidth": 0,
                        "ticks": ""
                      }
                    },
                    "colorscale": {
                      "diverging": [
                        [
                          0,
                          "#8e0152"
                        ],
                        [
                          0.1,
                          "#c51b7d"
                        ],
                        [
                          0.2,
                          "#de77ae"
                        ],
                        [
                          0.3,
                          "#f1b6da"
                        ],
                        [
                          0.4,
                          "#fde0ef"
                        ],
                        [
                          0.5,
                          "#f7f7f7"
                        ],
                        [
                          0.6,
                          "#e6f5d0"
                        ],
                        [
                          0.7,
                          "#b8e186"
                        ],
                        [
                          0.8,
                          "#7fbc41"
                        ],
                        [
                          0.9,
                          "#4d9221"
                        ],
                        [
                          1,
                          "#276419"
                        ]
                      ],
                      "sequential": [
                        [
                          0,
                          "#0d0887"
                        ],
                        [
                          0.1111111111111111,
                          "#46039f"
                        ],
                        [
                          0.2222222222222222,
                          "#7201a8"
                        ],
                        [
                          0.3333333333333333,
                          "#9c179e"
                        ],
                        [
                          0.4444444444444444,
                          "#bd3786"
                        ],
                        [
                          0.5555555555555556,
                          "#d8576b"
                        ],
                        [
                          0.6666666666666666,
                          "#ed7953"
                        ],
                        [
                          0.7777777777777778,
                          "#fb9f3a"
                        ],
                        [
                          0.8888888888888888,
                          "#fdca26"
                        ],
                        [
                          1,
                          "#f0f921"
                        ]
                      ],
                      "sequentialminus": [
                        [
                          0,
                          "#0d0887"
                        ],
                        [
                          0.1111111111111111,
                          "#46039f"
                        ],
                        [
                          0.2222222222222222,
                          "#7201a8"
                        ],
                        [
                          0.3333333333333333,
                          "#9c179e"
                        ],
                        [
                          0.4444444444444444,
                          "#bd3786"
                        ],
                        [
                          0.5555555555555556,
                          "#d8576b"
                        ],
                        [
                          0.6666666666666666,
                          "#ed7953"
                        ],
                        [
                          0.7777777777777778,
                          "#fb9f3a"
                        ],
                        [
                          0.8888888888888888,
                          "#fdca26"
                        ],
                        [
                          1,
                          "#f0f921"
                        ]
                      ]
                    },
                    "colorway": [
                      "#636efa",
                      "#EF553B",
                      "#00cc96",
                      "#ab63fa",
                      "#FFA15A",
                      "#19d3f3",
                      "#FF6692",
                      "#B6E880",
                      "#FF97FF",
                      "#FECB52"
                    ],
                    "font": {
                      "color": "#2a3f5f"
                    },
                    "geo": {
                      "bgcolor": "white",
                      "lakecolor": "white",
                      "landcolor": "#E5ECF6",
                      "showlakes": true,
                      "showland": true,
                      "subunitcolor": "white"
                    },
                    "hoverlabel": {
                      "align": "left"
                    },
                    "hovermode": "closest",
                    "mapbox": {
                      "style": "light"
                    },
                    "paper_bgcolor": "white",
                    "plot_bgcolor": "#E5ECF6",
                    "polar": {
                      "angularaxis": {
                        "gridcolor": "white",
                        "linecolor": "white",
                        "ticks": ""
                      },
                      "bgcolor": "#E5ECF6",
                      "radialaxis": {
                        "gridcolor": "white",
                        "linecolor": "white",
                        "ticks": ""
                      }
                    },
                    "scene": {
                      "xaxis": {
                        "backgroundcolor": "#E5ECF6",
                        "gridcolor": "white",
                        "gridwidth": 2,
                        "linecolor": "white",
                        "showbackground": true,
                        "ticks": "",
                        "zerolinecolor": "white"
                      },
                      "yaxis": {
                        "backgroundcolor": "#E5ECF6",
                        "gridcolor": "white",
                        "gridwidth": 2,
                        "linecolor": "white",
                        "showbackground": true,
                        "ticks": "",
                        "zerolinecolor": "white"
                      },
                      "zaxis": {
                        "backgroundcolor": "#E5ECF6",
                        "gridcolor": "white",
                        "gridwidth": 2,
                        "linecolor": "white",
                        "showbackground": true,
                        "ticks": "",
                        "zerolinecolor": "white"
                      }
                    },
                    "shapedefaults": {
                      "line": {
                        "color": "#2a3f5f"
                      }
                    },
                    "ternary": {
                      "aaxis": {
                        "gridcolor": "white",
                        "linecolor": "white",
                        "ticks": ""
                      },
                      "baxis": {
                        "gridcolor": "white",
                        "linecolor": "white",
                        "ticks": ""
                      },
                      "bgcolor": "#E5ECF6",
                      "caxis": {
                        "gridcolor": "white",
                        "linecolor": "white",
                        "ticks": ""
                      }
                    },
                    "title": {
                      "x": 0.05
                    },
                    "xaxis": {
                      "automargin": true,
                      "gridcolor": "white",
                      "linecolor": "white",
                      "ticks": "",
                      "title": {
                        "standoff": 15
                      },
                      "zerolinecolor": "white",
                      "zerolinewidth": 2
                    },
                    "yaxis": {
                      "automargin": true,
                      "gridcolor": "white",
                      "linecolor": "white",
                      "ticks": "",
                      "title": {
                        "standoff": 15
                      },
                      "zerolinecolor": "white",
                      "zerolinewidth": 2
                    }
                  }
                },
                "title": {
                  "text": "Percentage of population speak different languages in Uttarakhand"
                }
              }
            }
          },
          "metadata": {},
          "output_type": "display_data"
        }
      ],
      "source": [
        "fig = px.pie(df2019, values='peeps', names='mt', title='Percentage of population speak different languages in Uttarakhand', height=900)\n",
        "fig.show()"
      ]
    },
    {
      "cell_type": "code",
      "execution_count": 81,
      "metadata": {},
      "outputs": [
        {
          "name": "stdout",
          "output_type": "stream",
          "text": [
            "<class 'pandas.core.frame.DataFrame'>\n",
            "Int64Index: 18 entries, 1 to 18\n",
            "Data columns (total 4 columns):\n",
            " #   Column  Non-Null Count  Dtype \n",
            "---  ------  --------------  ----- \n",
            " 0   mtc     18 non-null     object\n",
            " 1   mt      18 non-null     object\n",
            " 2   peeps   18 non-null     object\n",
            " 3   %       18 non-null     object\n",
            "dtypes: object(4)\n",
            "memory usage: 720.0+ bytes\n"
          ]
        }
      ],
      "source": [
        "df2019.info()"
      ]
    },
    {
      "cell_type": "code",
      "execution_count": 99,
      "metadata": {},
      "outputs": [
        {
          "data": {
            "text/plain": [
              "1       150893\n",
              "2        95330\n",
              "3      2322406\n",
              "4      4373951\n",
              "5       135698\n",
              "6      2011286\n",
              "7        16984\n",
              "8        48286\n",
              "9         5989\n",
              "10      106394\n",
              "11      263258\n",
              "12      425461\n",
              "13        9207\n",
              "14        5995\n",
              "15        9470\n",
              "16       10125\n",
              "17       95559\n",
              "18    10086292\n",
              "Name: peeps, dtype: int32"
            ]
          },
          "execution_count": 99,
          "metadata": {},
          "output_type": "execute_result"
        }
      ],
      "source": [
        "df2019['peeps'].astype(str).astype(int)"
      ]
    },
    {
      "cell_type": "code",
      "execution_count": null,
      "metadata": {},
      "outputs": [],
      "source": []
    },
    {
      "cell_type": "markdown",
      "metadata": {
        "colab_type": "text",
        "id": "laW205ykvn0S"
      },
      "source": [
        "## Data cleaning"
      ]
    },
    {
      "cell_type": "markdown",
      "metadata": {
        "colab_type": "text",
        "id": "b-cH41xd54Tw"
      },
      "source": [
        "We can see that the table header is presented multiple times in several rows."
      ]
    },
    {
      "cell_type": "code",
      "execution_count": null,
      "metadata": {
        "colab": {
          "base_uri": "https://localhost:8080/",
          "height": 35
        },
        "colab_type": "code",
        "id": "rdRg9UDI5lus",
        "outputId": "ef54c243-cf5b-4695-f780-7a8483ec7b51"
      },
      "outputs": [
        {
          "data": {
            "text/plain": [
              "26"
            ]
          },
          "execution_count": 33,
          "metadata": {
            "tags": []
          },
          "output_type": "execute_result"
        }
      ],
      "source": [
        "len(df2019[df2019.Age == 'Age'])"
      ]
    },
    {
      "cell_type": "code",
      "execution_count": null,
      "metadata": {
        "colab": {},
        "colab_type": "code",
        "id": "lG34yiD5e_Cs"
      },
      "outputs": [],
      "source": [
        "df = df2019.drop(df2019[df2019.Age == 'Age'].index)"
      ]
    },
    {
      "cell_type": "code",
      "execution_count": null,
      "metadata": {
        "colab": {
          "base_uri": "https://localhost:8080/",
          "height": 35
        },
        "colab_type": "code",
        "id": "1DwL0sq-u7wF",
        "outputId": "6b159909-d654-46da-fc54-cdeab3dd5703"
      },
      "outputs": [
        {
          "data": {
            "text/plain": [
              "(708, 30)"
            ]
          },
          "execution_count": 13,
          "metadata": {
            "tags": []
          },
          "output_type": "execute_result"
        }
      ],
      "source": [
        "df.shape"
      ]
    },
    {
      "cell_type": "markdown",
      "metadata": {
        "colab_type": "text",
        "id": "o4x9M9ArXl7l"
      },
      "source": [
        "## Quick Exploratory Data Analysis"
      ]
    },
    {
      "cell_type": "code",
      "execution_count": 93,
      "metadata": {
        "colab": {},
        "colab_type": "code",
        "id": "Vw0kwGHNgSMS"
      },
      "outputs": [],
      "source": [
        "import seaborn as sns\n",
        "import matplotlib.pyplot as plt\n",
        "import matplotlib.dates as mtd\n",
        "import plotly.graph_objects as go\n",
        "import plotly.figure_factory as ff\n",
        "from plotly.subplots import make_subplots\n",
        "\n",
        "\n",
        "%matplotlib inline\n",
        "\n",
        "import math\n",
        "import random\n",
        "from datetime import timedelta\n",
        "\n",
        "import warnings\n",
        "warnings.filterwarnings('ignore')\n",
        "\n",
        "#color pallette\n",
        "cnf = '#393e46'\n",
        "dth = '#ff2e63'\n",
        "rec = '#21bf73'\n",
        "act = '#fe9801'\n",
        "\n",
        "import plotly as py\n",
        "import numpy as np\n",
        "\n",
        "\n",
        "import plotly.graph_objects as go\n",
        "import matplotlib.patches as mpatches\n",
        "from plotly.subplots import make_subplots\n",
        "\n",
        "import seaborn as sns  \n",
        "sns.set(color_codes = True)\n",
        "sns.set(style=\"whitegrid\")\n",
        "import plotly.figure_factory as ff\n",
        "from plotly.colors import n_colors\n",
        "\n",
        "import plotly.express as px\n",
        "from datetime import datetime"
      ]
    },
    {
      "cell_type": "code",
      "execution_count": 96,
      "metadata": {},
      "outputs": [
        {
          "data": {
            "text/plain": [
              "pandas.core.frame.DataFrame"
            ]
          },
          "execution_count": 96,
          "metadata": {},
          "output_type": "execute_result"
        }
      ],
      "source": [
        "type(df2019)"
      ]
    },
    {
      "cell_type": "markdown",
      "metadata": {
        "colab_type": "text",
        "id": "Vw77h9jPEd2z"
      },
      "source": [
        "Making the histogram"
      ]
    },
    {
      "cell_type": "markdown",
      "metadata": {
        "colab_type": "text",
        "id": "aXcBxnrBEWGj"
      },
      "source": [
        "Change bar line color"
      ]
    },
    {
      "cell_type": "markdown",
      "metadata": {
        "colab_type": "text",
        "id": "uqkKFD4LEjoH"
      },
      "source": [
        "Change bar fill colors"
      ]
    }
  ],
  "metadata": {
    "colab": {
      "collapsed_sections": [],
      "name": "pandas-read-html-for-webscraping.ipynb",
      "provenance": []
    },
    "kernelspec": {
      "display_name": "Python 3",
      "name": "python3"
    },
    "language_info": {
      "codemirror_mode": {
        "name": "ipython",
        "version": 3
      },
      "file_extension": ".py",
      "mimetype": "text/x-python",
      "name": "python",
      "nbconvert_exporter": "python",
      "pygments_lexer": "ipython3",
      "version": "3.9.5"
    }
  },
  "nbformat": 4,
  "nbformat_minor": 0
}
